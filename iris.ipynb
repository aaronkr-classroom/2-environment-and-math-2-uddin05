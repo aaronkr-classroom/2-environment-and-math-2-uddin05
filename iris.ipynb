{
 "cells": [
  {
   "cell_type": "markdown",
   "id": "bc4228e1",
   "metadata": {},
   "source": [
    "# markdown\n",
    "write your own MD content from `slide 49`"
   ]
  },
  {
   "cell_type": "code",
   "execution_count": null,
   "id": "06589970",
   "metadata": {
    "vscode": {
     "languageId": "plaintext"
    }
   },
   "outputs": [],
   "source": [
    "# 1. hello snakeman\n",
    "name = \"Aaron Paul\"\n",
    "goals = ['learn ML','learn DL']\n",
    "print(\"hello,\",name,\"!\")\n",
    "\n",
    "for g in goals:\n",
    "    print(\"-\", g)\n",
    "\n",
    "if \"learn ML\" in goals:\n",
    "    print(\"Let's learn ML!\")"
   ]
  },
  {
   "cell_type": "code",
   "execution_count": null,
   "id": "06ed5f31",
   "metadata": {
    "vscode": {
     "languageId": "plaintext"
    }
   },
   "outputs": [],
   "source": []
  }
 ],
 "metadata": {
  "language_info": {
   "name": "python"
  }
 },
 "nbformat": 4,
 "nbformat_minor": 5
}
